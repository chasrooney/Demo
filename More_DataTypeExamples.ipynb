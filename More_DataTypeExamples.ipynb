{
  "nbformat": 4,
  "nbformat_minor": 0,
  "metadata": {
    "colab": {
      "provenance": []
    },
    "kernelspec": {
      "name": "python3",
      "display_name": "Python 3"
    },
    "language_info": {
      "name": "python"
    }
  },
  "cells": [
    {
      "cell_type": "markdown",
      "source": [
        "#Part 1: Int"
      ],
      "metadata": {
        "id": "xg8QJIzWeioG"
      }
    },
    {
      "cell_type": "code",
      "execution_count": 1,
      "metadata": {
        "id": "RVEz_ngGef92",
        "colab": {
          "base_uri": "https://localhost:8080/"
        },
        "outputId": "8ad0b754-8fe9-48a5-d627-052e4fb9c660"
      },
      "outputs": [
        {
          "output_type": "stream",
          "name": "stdout",
          "text": [
            "number is equal to 17. Its Data Type is <class 'int'>\n"
          ]
        }
      ],
      "source": [
        "#define variable\n",
        "number = 17\n",
        "\n",
        "#the type() command will tell us what data type the value is\n",
        "data_type = type(number)\n",
        "\n",
        "#print the results nicely\n",
        "print(f\"number is equal to {number}. Its Data Type is {data_type}\")"
      ]
    },
    {
      "cell_type": "markdown",
      "source": [
        "#Part 2:  Float"
      ],
      "metadata": {
        "id": "7Xmpo-1rfOKr"
      }
    },
    {
      "cell_type": "code",
      "source": [
        "#including a decimal point tells python that we don't want an int\n",
        "number = 17.0\n",
        "\n",
        "data_type = type(number)\n",
        "\n",
        "print(f\"number is equal to {number}. Its Data Type is {data_type}\")"
      ],
      "metadata": {
        "id": "0-7a6ndUfQSR",
        "colab": {
          "base_uri": "https://localhost:8080/"
        },
        "outputId": "a2fa6bc0-3b3c-4ace-e8b0-ca17cf15b71b"
      },
      "execution_count": 2,
      "outputs": [
        {
          "output_type": "stream",
          "name": "stdout",
          "text": [
            "number is equal to 17.0 .  Its Data Type is <class 'float'>\n"
          ]
        }
      ]
    },
    {
      "cell_type": "markdown",
      "source": [
        "#Part 3:  String"
      ],
      "metadata": {
        "id": "yLU152X0flI3"
      }
    },
    {
      "cell_type": "code",
      "source": [
        "number = '7' #notice the quotes!\n",
        "\n",
        "data_type = type(number)\n",
        "\n",
        "print(f\"number is equal to {number}. Its Data Type is {data_type}\")\n"
      ],
      "metadata": {
        "id": "txa6wXCXfmu7",
        "colab": {
          "base_uri": "https://localhost:8080/"
        },
        "outputId": "ad4c40e5-a24b-44c6-fb78-31a7e6ae4fae"
      },
      "execution_count": 3,
      "outputs": [
        {
          "output_type": "stream",
          "name": "stdout",
          "text": [
            "number is equal to 7. Its Data Type is <class 'str'>\n"
          ]
        }
      ]
    },
    {
      "cell_type": "markdown",
      "source": [
        "#Putting it all together - how Python treats data types differently"
      ],
      "metadata": {
        "id": "Oh2dsuqwfxLb"
      }
    },
    {
      "cell_type": "code",
      "source": [
        "#First, I create three variables, each containing a version of the number 7\n",
        "number_int = 7\n",
        "number_float = 7.0\n",
        "number_string = '7'\n",
        "\n",
        "#We all know that 7+3 = 10.\n",
        "#Let's see what happens if we add 3 to each of these.\n",
        "\n",
        "new_number = number_int + 3\n",
        "\n",
        "print(f\"After I add three to the int type, the result is {new_number}\")\n",
        "\n",
        "new_number = number_float + 3\n",
        "\n",
        "print(f\"After I add three to the int type, the result is {new_number}\")\n",
        "\n",
        "new_number = number_string + 3\n",
        "\n",
        "print(f\"After I add three to the int type, the result is {new_number}\")"
      ],
      "metadata": {
        "id": "-pmoYMcyf1OT",
        "colab": {
          "base_uri": "https://localhost:8080/",
          "height": 245
        },
        "outputId": "229c304c-229d-4827-b69b-494e84a3471e"
      },
      "execution_count": 26,
      "outputs": [
        {
          "output_type": "stream",
          "name": "stdout",
          "text": [
            "After I add three to the int type, the result is 10\n",
            "After I add three to the int type, the result is 10.0\n"
          ]
        },
        {
          "output_type": "error",
          "ename": "TypeError",
          "evalue": "can only concatenate str (not \"int\") to str",
          "traceback": [
            "\u001b[0;31m---------------------------------------------------------------------------\u001b[0m",
            "\u001b[0;31mTypeError\u001b[0m                                 Traceback (most recent call last)",
            "\u001b[0;32m<ipython-input-26-5f0deb38c961>\u001b[0m in \u001b[0;36m<cell line: 17>\u001b[0;34m()\u001b[0m\n\u001b[1;32m     15\u001b[0m \u001b[0mprint\u001b[0m\u001b[0;34m(\u001b[0m\u001b[0;34mf\"After I add three to the int type, the result is {new_number}\"\u001b[0m\u001b[0;34m)\u001b[0m\u001b[0;34m\u001b[0m\u001b[0;34m\u001b[0m\u001b[0m\n\u001b[1;32m     16\u001b[0m \u001b[0;34m\u001b[0m\u001b[0m\n\u001b[0;32m---> 17\u001b[0;31m \u001b[0mnew_number\u001b[0m \u001b[0;34m=\u001b[0m \u001b[0mnumber_string\u001b[0m \u001b[0;34m+\u001b[0m \u001b[0;36m3\u001b[0m\u001b[0;34m\u001b[0m\u001b[0;34m\u001b[0m\u001b[0m\n\u001b[0m\u001b[1;32m     18\u001b[0m \u001b[0;34m\u001b[0m\u001b[0m\n\u001b[1;32m     19\u001b[0m \u001b[0mprint\u001b[0m\u001b[0;34m(\u001b[0m\u001b[0;34mf\"After I add three to the int type, the result is {new_number}\"\u001b[0m\u001b[0;34m)\u001b[0m\u001b[0;34m\u001b[0m\u001b[0;34m\u001b[0m\u001b[0m\n",
            "\u001b[0;31mTypeError\u001b[0m: can only concatenate str (not \"int\") to str"
          ]
        }
      ]
    },
    {
      "cell_type": "code",
      "source": [
        "#Let's fix that error.\n",
        "#You CAN add one string to another, but the result will be weird. This called CONCATENATION\n",
        "\n",
        "number_string = '7'\n",
        "\n",
        "new_number = number_string + '3' #notice the quotes! 3 is now a string\n",
        "\n",
        "print(f\"After I add 3 in quotes to the string type, the result is {new_number}\")"
      ],
      "metadata": {
        "id": "QgpTPlWNg1kK",
        "colab": {
          "base_uri": "https://localhost:8080/"
        },
        "outputId": "1aede2ea-cfed-4234-f284-099f0d796d86"
      },
      "execution_count": 5,
      "outputs": [
        {
          "output_type": "stream",
          "name": "stdout",
          "text": [
            "After I add 3 in quotes to the string type, the result is 73\n"
          ]
        }
      ]
    },
    {
      "cell_type": "markdown",
      "source": [
        "#Part 4:  Booleans"
      ],
      "metadata": {
        "id": "VOeCU6WiiQ2K"
      }
    },
    {
      "cell_type": "code",
      "source": [
        "#A boolean can be one of two values:  True or False\n",
        "greater = (10 > 7)\n",
        "\n",
        "greater_type = type(greater)\n",
        "\n",
        "print(f\"The value of greater is {greater}\")\n",
        "print(f\"The data type of greater is {greater_type}\")\n",
        "\n"
      ],
      "metadata": {
        "colab": {
          "base_uri": "https://localhost:8080/"
        },
        "id": "OUE0G6_uiTX6",
        "outputId": "794cfe05-3cda-408b-f769-434f3f32e206"
      },
      "execution_count": 6,
      "outputs": [
        {
          "output_type": "stream",
          "name": "stdout",
          "text": [
            "The value of greater is True\n",
            "The data type of greater is <class 'bool'>\n"
          ]
        }
      ]
    },
    {
      "cell_type": "code",
      "source": [
        "#As we will see later, Python expressions that can be evaluated as True or False are very useful;\n",
        "age = 69\n",
        "if age >=65:\n",
        "  print(f\"Your ticket price is $10.50\")\n",
        "else:\n",
        "  print(f\"Your ticket price is $12.50\")"
      ],
      "metadata": {
        "colab": {
          "base_uri": "https://localhost:8080/"
        },
        "id": "D4unUcXhjqey",
        "outputId": "0a3b0f59-65be-4189-de73-f4408a1c3d60"
      },
      "execution_count": 12,
      "outputs": [
        {
          "output_type": "stream",
          "name": "stdout",
          "text": [
            "Your ticket price is $10.50\n"
          ]
        }
      ]
    },
    {
      "cell_type": "code",
      "source": [
        "Year = 2103\n",
        "if (Year%100 == 0 and Year%400 == 0) or (Year%100 !=0 and Year%4 == 0):\n",
        "  print(f\"{Year} is a Leap Year!\")\n",
        "else:\n",
        "  print (f\"{Year} is NOT a Leap Year!\")"
      ],
      "metadata": {
        "colab": {
          "base_uri": "https://localhost:8080/"
        },
        "id": "Kljt8D8vkTwu",
        "outputId": "7333b268-c494-4bd0-9419-deee16c23d65"
      },
      "execution_count": 17,
      "outputs": [
        {
          "output_type": "stream",
          "name": "stdout",
          "text": [
            "2103 is NOT a Leap Year!\n"
          ]
        }
      ]
    },
    {
      "cell_type": "code",
      "source": [],
      "metadata": {
        "id": "e-G1yft1lOEd"
      },
      "execution_count": null,
      "outputs": []
    },
    {
      "cell_type": "markdown",
      "source": [
        "# Part 5: Arrays (known as lists in Python)\n"
      ],
      "metadata": {
        "id": "Ro4vmdjFKnxq"
      }
    },
    {
      "cell_type": "code",
      "source": [
        "sleep_hrs = [9,9,8,7,8,8,7,7,6,5,10,8,9,5,7,9,9,8,9,10,6,8,9,8,8,8]"
      ],
      "metadata": {
        "id": "LHcw2OeAMi7_"
      },
      "execution_count": 7,
      "outputs": []
    },
    {
      "cell_type": "code",
      "source": [
        "birth_day = [\"Tuesday\",\"Wednesday\",\"Saturday\",\"Wednesday\",\"Tuesday\",\"Tuesday\",\"Saturday\",\"Sunday\",\"Friday\",\"Monday\",\"Thursday\",\"Monday\",\"Thursday\",\"Wednesday\",\"Saturday\",\"Thursday\",\"Saturday\",\"Saturday\",\"Saturday\",\"Tuesday\",\"Sunday\",\"Thursday\",\"Saturday\",\"Sunday\",\"Tuesday\",\"Saturday\"]\n"
      ],
      "metadata": {
        "id": "tuAjmN8hnrPD"
      },
      "execution_count": 19,
      "outputs": []
    },
    {
      "cell_type": "code",
      "source": [
        "print(f\"sleep_hrs is a Python list and has Python datatype {type(sleep_hrs)}\")\n",
        "print(f\"birth_day is a Python list and has Python datatype {type(birth_day)}\")"
      ],
      "metadata": {
        "colab": {
          "base_uri": "https://localhost:8080/"
        },
        "id": "s1HLwiHiNFOB",
        "outputId": "db4c46f1-8a23-4a6b-9f59-6bb7c17dabc7"
      },
      "execution_count": 20,
      "outputs": [
        {
          "output_type": "stream",
          "name": "stdout",
          "text": [
            "sleep_hrs is a Python list and has Python datatype <class 'list'>\n",
            "birth_day is a Python list and has Python datatype <class 'list'>\n"
          ]
        }
      ]
    },
    {
      "cell_type": "code",
      "source": [
        "#And we can make calculations on the list as a whole:\n",
        "sleep_sum = sum(sleep_hrs)\n",
        "sleep_count = len(sleep_hrs)\n",
        "print(f\"The total number of hours of sleep for the {sleep_count} students in this class is {sleep_sum}.\")\n",
        "print(f\"The average number of hours of sleep is {sleep_sum/sleep_count} hours.\")\n"
      ],
      "metadata": {
        "colab": {
          "base_uri": "https://localhost:8080/"
        },
        "id": "m7c_gjK3NVx4",
        "outputId": "4133650d-d8e7-499e-8aa7-9eb9a3cd4652"
      },
      "execution_count": 23,
      "outputs": [
        {
          "output_type": "stream",
          "name": "stdout",
          "text": [
            "The total number of hours of sleep for the 26 students in this class is 205.\n",
            "The average number of hours of sleep is 7.884615384615385 hours.\n"
          ]
        }
      ]
    },
    {
      "cell_type": "code",
      "source": [
        "print(sorted(sleep_hrs))\n",
        "print(sorted(birth_day))"
      ],
      "metadata": {
        "colab": {
          "base_uri": "https://localhost:8080/"
        },
        "id": "JmjuOEgntDVk",
        "outputId": "991284af-9994-44dc-84dd-e31ef2c741bf"
      },
      "execution_count": 32,
      "outputs": [
        {
          "output_type": "stream",
          "name": "stdout",
          "text": [
            "[5, 5, 6, 6, 7, 7, 7, 7, 8, 8, 8, 8, 8, 8, 8, 8, 8, 9, 9, 9, 9, 9, 9, 9, 10, 10]\n",
            "['Friday', 'Monday', 'Monday', 'Saturday', 'Saturday', 'Saturday', 'Saturday', 'Saturday', 'Saturday', 'Saturday', 'Saturday', 'Sunday', 'Sunday', 'Sunday', 'Thursday', 'Thursday', 'Thursday', 'Thursday', 'Tuesday', 'Tuesday', 'Tuesday', 'Tuesday', 'Tuesday', 'Wednesday', 'Wednesday', 'Wednesday']\n"
          ]
        }
      ]
    }
  ]
}