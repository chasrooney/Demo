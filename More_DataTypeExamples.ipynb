{
  "nbformat": 4,
  "nbformat_minor": 0,
  "metadata": {
    "colab": {
      "provenance": []
    },
    "kernelspec": {
      "name": "python3",
      "display_name": "Python 3"
    },
    "language_info": {
      "name": "python"
    }
  },
  "cells": [
    {
      "cell_type": "markdown",
      "source": [
        "#Part 1: Int"
      ],
      "metadata": {
        "id": "xg8QJIzWeioG"
      }
    },
    {
      "cell_type": "code",
      "execution_count": null,
      "metadata": {
        "id": "RVEz_ngGef92"
      },
      "outputs": [],
      "source": [
        "#define variable\n",
        "number = 17\n",
        "\n",
        "#the type() command will tell us what data type the value is\n",
        "data_type = type(number)\n",
        "\n",
        "#print the results nicely\n",
        "print(f\"number is equal to {number}. Its Data Type is {data_type}\")"
      ]
    },
    {
      "cell_type": "markdown",
      "source": [
        "#Part 2:  Float"
      ],
      "metadata": {
        "id": "7Xmpo-1rfOKr"
      }
    },
    {
      "cell_type": "code",
      "source": [
        "#including a decimal point tells python that we don't want an int\n",
        "number = 17.0\n",
        "\n",
        "data_type = type(number)\n",
        "\n",
        "print(f\"number is equal to {number}. Its Data Type is {data_type}\")"
      ],
      "metadata": {
        "id": "0-7a6ndUfQSR"
      },
      "execution_count": null,
      "outputs": []
    },
    {
      "cell_type": "markdown",
      "source": [
        "#Part 3:  String"
      ],
      "metadata": {
        "id": "yLU152X0flI3"
      }
    },
    {
      "cell_type": "code",
      "source": [
        "number = '7' #notice the quotes!\n",
        "\n",
        "data_type = type(number)\n",
        "\n",
        "print(f\"number is equal to {number}. Its Data Type is {data_type}\")\n"
      ],
      "metadata": {
        "id": "txa6wXCXfmu7"
      },
      "execution_count": null,
      "outputs": []
    },
    {
      "cell_type": "markdown",
      "source": [
        "#Putting it all together - how Python treats data types differently"
      ],
      "metadata": {
        "id": "Oh2dsuqwfxLb"
      }
    },
    {
      "cell_type": "code",
      "source": [
        "#First, I create three variables, each containing a version of the number 7\n",
        "number_int = 7\n",
        "number_float = 7.0\n",
        "number_string = '7'\n",
        "\n",
        "#We all know that 7+3 = 10.\n",
        "#Let's see what happens if we add 3 to each of these.\n",
        "\n",
        "new_number = number_int + 3\n",
        "\n",
        "print(f\"After I add three to the int type, the result is {new_number}\")\n",
        "\n",
        "new_number = number_float + 3\n",
        "\n",
        "print(f\"After I add three to the int type, the result is {new_number}\")\n",
        "\n",
        "new_number = number_string + 3\n",
        "\n",
        "print(f\"After I add three to the int type, the result is {new_number}\")"
      ],
      "metadata": {
        "id": "-pmoYMcyf1OT"
      },
      "execution_count": null,
      "outputs": []
    },
    {
      "cell_type": "code",
      "source": [
        "#Let's fix that error.\n",
        "#You CAN add one string to another, but the result will be weird. This called CONCATENATION\n",
        "\n",
        "number_string = '7'\n",
        "\n",
        "new_number = number_string + '3' #notice the quotes! 3 is now a string\n",
        "\n",
        "print(f\"After I add 3 in quotes to the string type, the result is {new_number}\")"
      ],
      "metadata": {
        "id": "QgpTPlWNg1kK"
      },
      "execution_count": null,
      "outputs": []
    },
    {
      "cell_type": "markdown",
      "source": [
        "#Part 4:  Booleans"
      ],
      "metadata": {
        "id": "VOeCU6WiiQ2K"
      }
    },
    {
      "cell_type": "code",
      "source": [
        "#A boolean can be one of two values:  True or False\n",
        "greater = (10 > 7)\n",
        "\n",
        "greater_type = type(greater)\n",
        "\n",
        "print(f\"The value of greater is {greater}\")\n",
        "print(f\"The data type of greater is {greater_type}\")\n",
        "\n"
      ],
      "metadata": {
        "id": "OUE0G6_uiTX6"
      },
      "execution_count": null,
      "outputs": []
    },
    {
      "cell_type": "code",
      "source": [
        "#As we will see later, Python expressions that can be evaluated as True or False are very useful;\n",
        "age = 69\n",
        "if age >=65:\n",
        "  print(f\"Your ticket price is $10.50\")\n",
        "else:\n",
        "  print(f\"Your ticket price is $12.50\")"
      ],
      "metadata": {
        "id": "D4unUcXhjqey"
      },
      "execution_count": null,
      "outputs": []
    },
    {
      "cell_type": "code",
      "source": [
        "Year = 2103\n",
        "if (Year%100 == 0 and Year%400 == 0) or (Year%100 !=0 and Year%4 == 0):\n",
        "  print(f\"{Year} is a Leap Year!\")\n",
        "else:\n",
        "  print (f\"{Year} is NOT a Leap Year!\")"
      ],
      "metadata": {
        "id": "Kljt8D8vkTwu"
      },
      "execution_count": null,
      "outputs": []
    },
    {
      "cell_type": "code",
      "source": [],
      "metadata": {
        "id": "e-G1yft1lOEd"
      },
      "execution_count": null,
      "outputs": []
    },
    {
      "cell_type": "markdown",
      "source": [
        "# Part 5: Arrays (known as lists in Python)\n"
      ],
      "metadata": {
        "id": "Ro4vmdjFKnxq"
      }
    },
    {
      "cell_type": "code",
      "source": [
        "sleep_hrs = [9,9,8,7,8,8,7,7,6,5,10,8,9,5,7,9,9,8,9,10,6,8,9,8,8,8]"
      ],
      "metadata": {
        "id": "LHcw2OeAMi7_"
      },
      "execution_count": null,
      "outputs": []
    },
    {
      "cell_type": "code",
      "source": [
        "birth_day = [\"Tuesday\",\"Wednesday\",\"Saturday\",\"Wednesday\",\"Tuesday\",\"Tuesday\",\"Saturday\",\"Sunday\",\"Friday\",\"Monday\",\"Thursday\",\"Monday\",\"Thursday\",\"Wednesday\",\"Saturday\",\"Thursday\",\"Saturday\",\"Saturday\",\"Saturday\",\"Tuesday\",\"Sunday\",\"Thursday\",\"Saturday\",\"Sunday\",\"Tuesday\",\"Saturday\"]\n"
      ],
      "metadata": {
        "id": "tuAjmN8hnrPD"
      },
      "execution_count": null,
      "outputs": []
    },
    {
      "cell_type": "code",
      "source": [
        "print(f\"sleep_hrs is a Python list and has Python datatype {type(sleep_hrs)}\")\n",
        "print(f\"birth_day is a Python list and has Python datatype {type(birth_day)}\")"
      ],
      "metadata": {
        "id": "s1HLwiHiNFOB"
      },
      "execution_count": null,
      "outputs": []
    },
    {
      "cell_type": "code",
      "source": [
        "#And we can make calculations on the list as a whole:\n",
        "sleep_sum = sum(sleep_hrs)\n",
        "sleep_count = len(sleep_hrs)\n",
        "print(f\"The total number of hours of sleep for the {sleep_count} students in this class is {sleep_sum}.\")\n",
        "print(f\"The average number of hours of sleep is {sleep_sum/sleep_count} hours.\")\n"
      ],
      "metadata": {
        "id": "m7c_gjK3NVx4"
      },
      "execution_count": null,
      "outputs": []
    },
    {
      "cell_type": "code",
      "source": [
        "print(sorted(sleep_hrs))\n",
        "print(sorted(birth_day))"
      ],
      "metadata": {
        "id": "JmjuOEgntDVk"
      },
      "execution_count": null,
      "outputs": []
    }
  ]
}